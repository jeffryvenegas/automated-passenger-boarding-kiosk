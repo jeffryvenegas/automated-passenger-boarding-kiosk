{
  "cells": [
    {
      "cell_type": "code",
      "source": [
        "! activate ai-azure-c1\r\n",
        "# ! pip install azure-cognitiveservices-vision-customvision\r\n",
        "import sys\r\n",
        "\r\n",
        "sys.path.append(\"/opt/conda/envs/ai-azure-c1/lib/python3.8/site-packages\")\r\n",
        "\r\n",
        "import requests\r\n",
        "from urllib.parse import urlparse\r\n",
        "from io import BytesIO\r\n",
        "from PIL import Image, ImageDraw\r\n",
        "import matplotlib.pyplot as plt\r\n",
        "\r\n",
        "import glob, os, sys, time, uuid\r\n",
        "\r\n",
        "from azure.cognitiveservices.vision.customvision.training import CustomVisionTrainingClient\r\n",
        "from azure.cognitiveservices.vision.customvision.prediction import CustomVisionPredictionClient\r\n",
        "from azure.cognitiveservices.vision.customvision.training.models import ImageFileCreateBatch, ImageFileCreateEntry, Region\r\n",
        "from msrest.authentication import ApiKeyCredentials\r\n",
        "\r\n",
        "\r\n",
        "def show_image_in_cell(img_url):\r\n",
        "    response = requests.get(img_url)\r\n",
        "    img = Image.open(BytesIO(response.content))\r\n",
        "    plt.figure(figsize=(20,10))\r\n",
        "    plt.imshow(img)\r\n",
        "    plt.show()\r\n",
        "\r\n",
        "CUSTOM_VISION_ENDPOINT = \"https://ai-nanodegree-p1.cognitiveservices.azure.com/\"\r\n",
        "custom_vision_key = \"e7f9d136f2ac43cf9ddc17b3ce9fd7b9\"\r\n",
        "custom_vision_resource_id = '/subscriptions/59548b95-35f6-464c-9646-bd4fcf73a445/resourceGroups/ML-RG/providers/Microsoft.CognitiveServices/accounts/ai-nanodegree-p1'"
      ],
      "outputs": [
        {
          "output_type": "stream",
          "name": "stdout",
          "text": "/anaconda/envs/azureml_py38/bin/activate: 5: /anaconda/envs/azureml_py38/etc/conda/activate.d/activate-binutils_linux-64.sh: Syntax error: \"(\" unexpected\r\n"
        }
      ],
      "execution_count": 95,
      "metadata": {
        "gather": {
          "logged": 1652588002538
        }
      }
    },
    {
      "cell_type": "code",
      "source": [
        "training_credentials = ApiKeyCredentials(in_headers={\"Training-key\": custom_vision_key})\r\n",
        "trainer = CustomVisionTrainingClient(CUSTOM_VISION_ENDPOINT, training_credentials)\r\n",
        "\r\n",
        "prediction_credentials = ApiKeyCredentials(in_headers={\"Prediction-key\": custom_vision_key})\r\n",
        "predictor = CustomVisionPredictionClient(CUSTOM_VISION_ENDPOINT, prediction_credentials)\r\n",
        "\r\n",
        "# Find the object detection domain\r\n",
        "obj_detection_domain = next(domain for domain in trainer.get_domains() if domain.type == \"ObjectDetection\" and domain.name == \"General (compact) [S1]\")\r\n",
        "\r\n",
        "# Create a new project\r\n",
        "#project_name = uuid.uuid4() #5a8c190f-fa61-4879-a734-2c6a3f71bb59\r\n",
        "#project = trainer.create_project(project_name, domain_id=obj_detection_domain.id)\r\n",
        "\r\n",
        "#using existing project with tagged images to avoid re-work\r\n",
        "project = trainer.get_project(\"d2f83227-cad7-45be-92c7-03bb43bd5572\")\r\n",
        "#lighter_tag = trainer.create_tag(project.id, \"lighter\")"
      ],
      "outputs": [],
      "execution_count": 87,
      "metadata": {
        "jupyter": {
          "source_hidden": false,
          "outputs_hidden": false
        },
        "nteract": {
          "transient": {
            "deleting": false
          }
        },
        "gather": {
          "logged": 1652587096727
        }
      }
    },
    {
      "cell_type": "code",
      "source": [
        "#if no changes since last training -> expect error\r\n",
        "iteration = trainer.train_project(project.id)\r\n",
        "trainer.get_iteration()\r\n",
        "while (iteration.status != \"Completed\"):\r\n",
        "    iteration = trainer.get_iteration(project.id, iteration.id)\r\n",
        "    print (\"Training status: \" + iteration.status)\r\n",
        "    print (\"Waiting 10 seconds...\")\r\n",
        "    time.sleep(10)"
      ],
      "outputs": [
        {
          "output_type": "error",
          "ename": "TypeError",
          "evalue": "get_iteration() missing 2 required positional arguments: 'project_id' and 'iteration_id'",
          "traceback": [
            "\u001b[0;31m---------------------------------------------------------------------------\u001b[0m",
            "\u001b[0;31mTypeError\u001b[0m                                 Traceback (most recent call last)",
            "\u001b[0;32m<ipython-input-88-473aed198731>\u001b[0m in \u001b[0;36m<module>\u001b[0;34m\u001b[0m\n\u001b[1;32m      1\u001b[0m \u001b[0;31m#if no changes since last training -> expect error\u001b[0m\u001b[0;34m\u001b[0m\u001b[0;34m\u001b[0m\u001b[0;34m\u001b[0m\u001b[0m\n\u001b[1;32m      2\u001b[0m \u001b[0miteration\u001b[0m \u001b[0;34m=\u001b[0m \u001b[0mtrainer\u001b[0m\u001b[0;34m.\u001b[0m\u001b[0mtrain_project\u001b[0m\u001b[0;34m(\u001b[0m\u001b[0mproject\u001b[0m\u001b[0;34m.\u001b[0m\u001b[0mid\u001b[0m\u001b[0;34m)\u001b[0m\u001b[0;34m\u001b[0m\u001b[0;34m\u001b[0m\u001b[0m\n\u001b[0;32m----> 3\u001b[0;31m \u001b[0mtrainer\u001b[0m\u001b[0;34m.\u001b[0m\u001b[0mget_iteration\u001b[0m\u001b[0;34m(\u001b[0m\u001b[0;34m)\u001b[0m\u001b[0;34m\u001b[0m\u001b[0;34m\u001b[0m\u001b[0m\n\u001b[0m\u001b[1;32m      4\u001b[0m \u001b[0;32mwhile\u001b[0m \u001b[0;34m(\u001b[0m\u001b[0miteration\u001b[0m\u001b[0;34m.\u001b[0m\u001b[0mstatus\u001b[0m \u001b[0;34m!=\u001b[0m \u001b[0;34m\"Completed\"\u001b[0m\u001b[0;34m)\u001b[0m\u001b[0;34m:\u001b[0m\u001b[0;34m\u001b[0m\u001b[0;34m\u001b[0m\u001b[0m\n\u001b[1;32m      5\u001b[0m     \u001b[0miteration\u001b[0m \u001b[0;34m=\u001b[0m \u001b[0mtrainer\u001b[0m\u001b[0;34m.\u001b[0m\u001b[0mget_iteration\u001b[0m\u001b[0;34m(\u001b[0m\u001b[0mproject\u001b[0m\u001b[0;34m.\u001b[0m\u001b[0mid\u001b[0m\u001b[0;34m,\u001b[0m \u001b[0miteration\u001b[0m\u001b[0;34m.\u001b[0m\u001b[0mid\u001b[0m\u001b[0;34m)\u001b[0m\u001b[0;34m\u001b[0m\u001b[0;34m\u001b[0m\u001b[0m\n",
            "\u001b[0;31mTypeError\u001b[0m: get_iteration() missing 2 required positional arguments: 'project_id' and 'iteration_id'"
          ]
        }
      ],
      "execution_count": 88,
      "metadata": {
        "jupyter": {
          "source_hidden": false,
          "outputs_hidden": false
        },
        "nteract": {
          "transient": {
            "deleting": false
          }
        },
        "gather": {
          "logged": 1652587099631
        }
      }
    },
    {
      "cell_type": "code",
      "source": [
        "iteration_list = trainer.get_iterations(project.id)\r\n",
        "model_perf = trainer.get_iteration_performance(project.id, iteration_list[0].id)\r\n",
        "model_perf.as_dict()"
      ],
      "outputs": [],
      "execution_count": null,
      "metadata": {
        "jupyter": {
          "source_hidden": false,
          "outputs_hidden": false
        },
        "nteract": {
          "transient": {
            "deleting": false
          }
        },
        "gather": {
          "logged": 1652587102765
        }
      }
    },
    {
      "cell_type": "code",
      "source": [
        "publish_iteration_name = \"lighter_detection_python_trained\"\r\n",
        "trainer.publish_iteration(project.id, iteration.id, publish_iteration_name, custom_vision_resource_id)\r\n"
      ],
      "outputs": [
        {
          "output_type": "execute_result",
          "execution_count": 56,
          "data": {
            "text/plain": "True"
          },
          "metadata": {}
        }
      ],
      "execution_count": 56,
      "metadata": {
        "jupyter": {
          "source_hidden": false,
          "outputs_hidden": false
        },
        "nteract": {
          "transient": {
            "deleting": false
          }
        },
        "gather": {
          "logged": 1652572356463
        }
      }
    },
    {
      "cell_type": "code",
      "source": [
        "project_id = \"d2f83227-cad7-45be-92c7-03bb43bd5572\"\r\n",
        "publish_iteration_name = \"lighter-detection-improved\"\r\n",
        "\r\n",
        "def perform_prediction_cust(image_file_name,):\r\n",
        "    with open(image_file_name, \"rb\") as image_contents:\r\n",
        "        results = predictor.detect_image(project.id, publish_iteration_name, image_contents.read())\r\n",
        "        # Display the results.\r\n",
        "        print(\"Predictions for: \"+image_file_name)\r\n",
        "        for prediction in results.predictions:\r\n",
        "            print(\"\\t\" + prediction.tag_name +\r\n",
        "                  \": {0:.2f}%\".format(prediction.probability * 100))"
      ],
      "outputs": [],
      "execution_count": 96,
      "metadata": {
        "jupyter": {
          "source_hidden": false,
          "outputs_hidden": false
        },
        "nteract": {
          "transient": {
            "deleting": false
          }
        },
        "gather": {
          "logged": 1652588099973
        }
      }
    },
    {
      "cell_type": "code",
      "source": [
        "perform_prediction_cust(\"lighter_test_set_3of5.jpg\")"
      ],
      "outputs": [
        {
          "output_type": "stream",
          "name": "stdout",
          "text": "Predictions for: lighter_test_set_3of5.jpg\n\tlighter: 72.29%\n\tlighter: 2.55%\n\tlighter: 2.14%\n\tlighter: 1.47%\n"
        }
      ],
      "execution_count": 104,
      "metadata": {
        "jupyter": {
          "source_hidden": false,
          "outputs_hidden": false
        },
        "nteract": {
          "transient": {
            "deleting": false
          }
        },
        "gather": {
          "logged": 1652588587175
        }
      }
    },
    {
      "cell_type": "code",
      "source": [
        "def perform_prediction(image_file_name,):\r\n",
        "    with open(image_file_name, \"rb\") as image_contents:\r\n",
        "        results = predictor.detect_image(project.id, publish_iteration_name, image_contents.read())\r\n",
        "        # Display the results.\r\n",
        "        print(\"Predictions for: \"+image_file_name)\r\n",
        "        for prediction in results.predictions:\r\n",
        "            print(\"\\t\" + prediction.tag_name +\r\n",
        "                  \": {0:.2f}%\".format(prediction.probability * 100))"
      ],
      "outputs": [],
      "execution_count": 67,
      "metadata": {
        "jupyter": {
          "source_hidden": false,
          "outputs_hidden": false
        },
        "nteract": {
          "transient": {
            "deleting": false
          }
        },
        "gather": {
          "logged": 1652574251943
        }
      }
    },
    {
      "cell_type": "code",
      "source": [
        "lighter_images = [file for file in glob.glob('*.jpg') if file.startswith(\"lighter_test\")]\r\n",
        "for image in lighter_images:\r\n",
        "    perform_prediction(image)\r\n",
        "    ## Checking the Image\r\n",
        "    with open(image, 'rb') as img_code:\r\n",
        "        img_view_ready = Image.open(img_code)\r\n",
        "        plt.figure()\r\n",
        "        plt.imshow(img_view_ready)"
      ],
      "outputs": [],
      "execution_count": null,
      "metadata": {
        "jupyter": {
          "source_hidden": false,
          "outputs_hidden": false
        },
        "nteract": {
          "transient": {
            "deleting": false
          }
        },
        "gather": {
          "logged": 1652571974055
        }
      }
    }
  ],
  "metadata": {
    "kernelspec": {
      "name": "python38-azureml",
      "language": "python",
      "display_name": "Python 3.8 - AzureML"
    },
    "language_info": {
      "name": "python",
      "version": "3.8.5",
      "mimetype": "text/x-python",
      "codemirror_mode": {
        "name": "ipython",
        "version": 3
      },
      "pygments_lexer": "ipython3",
      "nbconvert_exporter": "python",
      "file_extension": ".py"
    },
    "kernel_info": {
      "name": "python38-azureml"
    },
    "microsoft": {
      "host": {
        "AzureML": {
          "notebookHasBeenCompleted": true
        }
      }
    },
    "nteract": {
      "version": "nteract-front-end@1.0.0"
    }
  },
  "nbformat": 4,
  "nbformat_minor": 2
}